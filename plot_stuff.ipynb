{
 "cells": [
  {
   "cell_type": "code",
   "execution_count": 45,
   "id": "c99e2941-9aa7-49dc-a81f-e59e8b301d9f",
   "metadata": {
    "tags": []
   },
   "outputs": [],
   "source": [
    "%matplotlib inline\n",
    "import matplotlib.pyplot as plt\n",
    "import pandas as pd\n",
    "import numpy as np\n",
    "import seaborn as sns"
   ]
  },
  {
   "cell_type": "code",
   "execution_count": 30,
   "id": "dc2611a9-3e85-49f7-8b7b-bbe6a474066b",
   "metadata": {
    "tags": []
   },
   "outputs": [],
   "source": [
    "data = [\n",
    "    [1, 2, 3, 4, 5, 6],\n",
    "    ['pcasl', 'pasl', 'pcasl', 'pasl', 'pcasl', 'pasl'],\n",
    "    ['AP', 'AP', 'AP', 'AP', 'AP', 'AP'],\n",
    "    ['moco', 'moco', 'moco', None, None, None],\n",
    "    [0.5, 0.4, 0.3, 0.4, 0.5, 0.6],\n",
    "]\n",
    "data = list(map(list, zip(*data)))\n",
    "df = pd.DataFrame(columns=['subject', 'acquisition', 'direction', 'reconstruction', 'qei'], data=data)"
   ]
  },
  {
   "cell_type": "code",
   "execution_count": 31,
   "id": "e57a99ee-beb8-4cd7-8177-263ce7b8f91e",
   "metadata": {
    "tags": []
   },
   "outputs": [],
   "source": [
    "columns_to_group = ['acquisition', 'direction', 'reconstruction']\n",
    "grouping_columns = []\n",
    "for col in columns_to_group:\n",
    "    if df[col].unique().size > 1:\n",
    "        grouping_columns.append(col)\n",
    "        df[col] = df[col].fillna(\"NONE\")"
   ]
  },
  {
   "cell_type": "code",
   "execution_count": 40,
   "id": "f3a8f28f-c234-40ce-b73b-4a281a7f781c",
   "metadata": {
    "tags": []
   },
   "outputs": [],
   "source": [
    "df['group'] = ''\n",
    "for col in grouping_columns:\n",
    "    df['group'] += col + '-' + df[col] + '_'\n",
    "\n",
    "df['group'] = df['group'].str.rstrip('_')"
   ]
  },
  {
   "cell_type": "code",
   "execution_count": 44,
   "id": "58610ee0-f0fb-40ee-ab06-0ea89bd2508e",
   "metadata": {
    "tags": []
   },
   "outputs": [],
   "source": [
    "n_columns = df['group'].unique().size + 1"
   ]
  },
  {
   "cell_type": "code",
   "execution_count": 47,
   "id": "045a6aa1-1ef7-42d0-bfed-99a575d256db",
   "metadata": {
    "tags": []
   },
   "outputs": [
    {
     "data": {
      "text/plain": [
       "<Axes: ylabel='qei'>"
      ]
     },
     "execution_count": 47,
     "metadata": {},
     "output_type": "execute_result"
    },
    {
     "data": {
      "image/png": "[encoded data removed]",
      "text/plain": [
       "<Figure size 640x480 with 1 Axes>"
      ]
     },
     "metadata": {},
     "output_type": "display_data"
    }
   ],
   "source": [
    "sns.stripplot(data=df, y='qei', hue='group')"
   ]
  },
  {
   "cell_type": "code",
   "execution_count": null,
   "id": "9e54d996-345b-42a4-9721-f9b4a17c7510",
   "metadata": {},
   "outputs": [],
   "source": []
  }
 ],
 "metadata": {
  "kernelspec": {
   "display_name": "Python 3 (ipykernel)",
   "language": "python",
   "name": "python3"
  },
  "language_info": {
   "codemirror_mode": {
    "name": "ipython",
    "version": 3
   },
   "file_extension": ".py",
   "mimetype": "text/x-python",
   "name": "python",
   "nbconvert_exporter": "python",
   "pygments_lexer": "ipython3",
   "version": "3.9.17"
  }
 },
 "nbformat": 4,
 "nbformat_minor": 5
}
